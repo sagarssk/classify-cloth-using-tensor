{
 "cells": [
  {
   "cell_type": "code",
   "execution_count": 1,
   "metadata": {},
   "outputs": [],
   "source": [
    "import tensorflow as tf\n",
    "import numpy as np\n"
   ]
  },
  {
   "cell_type": "code",
   "execution_count": 2,
   "metadata": {},
   "outputs": [
    {
     "name": "stderr",
     "output_type": "stream",
     "text": [
      "WARNING: Logging before flag parsing goes to stderr.\n",
      "W0411 17:52:57.847935 140148543854400 deprecation.py:323] From <ipython-input-2-ce3ed2e72fe6>:2: read_data_sets (from tensorflow.contrib.learn.python.learn.datasets.mnist) is deprecated and will be removed in a future version.\n",
      "Instructions for updating:\n",
      "Please use alternatives such as official/mnist/dataset.py from tensorflow/models.\n",
      "W0411 17:52:57.849651 140148543854400 deprecation.py:323] From /usr/local/anaconda/lib/python3.6/site-packages/tensorflow/contrib/learn/python/learn/datasets/mnist.py:260: maybe_download (from tensorflow.contrib.learn.python.learn.datasets.base) is deprecated and will be removed in a future version.\n",
      "Instructions for updating:\n",
      "Please write your own downloading logic.\n",
      "W0411 17:52:57.855226 140148543854400 deprecation.py:323] From /usr/local/anaconda/lib/python3.6/site-packages/tensorflow/contrib/learn/python/learn/datasets/mnist.py:262: extract_images (from tensorflow.contrib.learn.python.learn.datasets.mnist) is deprecated and will be removed in a future version.\n",
      "Instructions for updating:\n",
      "Please use tf.data to implement this functionality.\n"
     ]
    },
    {
     "name": "stdout",
     "output_type": "stream",
     "text": [
      "Extracting /cxldata/datasets/project/fashion-mnist/train-images-idx3-ubyte.gz\n"
     ]
    },
    {
     "name": "stderr",
     "output_type": "stream",
     "text": [
      "W0411 17:52:58.419338 140148543854400 deprecation.py:323] From /usr/local/anaconda/lib/python3.6/site-packages/tensorflow/contrib/learn/python/learn/datasets/mnist.py:267: extract_labels (from tensorflow.contrib.learn.python.learn.datasets.mnist) is deprecated and will be removed in a future version.\n",
      "Instructions for updating:\n",
      "Please use tf.data to implement this functionality.\n",
      "W0411 17:52:58.615963 140148543854400 deprecation.py:323] From /usr/local/anaconda/lib/python3.6/site-packages/tensorflow/contrib/learn/python/learn/datasets/mnist.py:290: DataSet.__init__ (from tensorflow.contrib.learn.python.learn.datasets.mnist) is deprecated and will be removed in a future version.\n",
      "Instructions for updating:\n",
      "Please use alternatives such as official/mnist/dataset.py from tensorflow/models.\n"
     ]
    },
    {
     "name": "stdout",
     "output_type": "stream",
     "text": [
      "Extracting /cxldata/datasets/project/fashion-mnist/train-labels-idx1-ubyte.gz\n",
      "Extracting /cxldata/datasets/project/fashion-mnist/t10k-images-idx3-ubyte.gz\n",
      "Extracting /cxldata/datasets/project/fashion-mnist/t10k-labels-idx1-ubyte.gz\n"
     ]
    }
   ],
   "source": [
    "from tensorflow.examples.tutorials.mnist import input_data\n",
    "mnist= input_data.read_data_sets(\"/cxldata/datasets/project/fashion-mnist\")"
   ]
  },
  {
   "cell_type": "code",
   "execution_count": 3,
   "metadata": {},
   "outputs": [],
   "source": [
    "n_inputs= 28*28\n",
    "n_hidden1=300\n",
    "n_hidden2=100\n",
    "n_outputs=10"
   ]
  },
  {
   "cell_type": "markdown",
   "metadata": {},
   "source": [
    "## Defining place_holder "
   ]
  },
  {
   "cell_type": "code",
   "execution_count": null,
   "metadata": {},
   "outputs": [],
   "source": []
  },
  {
   "cell_type": "code",
   "execution_count": 4,
   "metadata": {},
   "outputs": [],
   "source": [
    "tf.reset_default_graph()\n",
    "\n",
    "X = tf.placeholder(tf.float32, shape=(None, n_inputs), name=\"X\")\n",
    "y = tf.placeholder(tf.int64, shape=(None), name=\"y\")"
   ]
  },
  {
   "cell_type": "code",
   "execution_count": 5,
   "metadata": {},
   "outputs": [
    {
     "name": "stderr",
     "output_type": "stream",
     "text": [
      "W0411 17:52:59.275558 140148543854400 deprecation.py:323] From <ipython-input-5-56996712a747>:3: dense (from tensorflow.python.layers.core) is deprecated and will be removed in a future version.\n",
      "Instructions for updating:\n",
      "Use keras.layers.dense instead.\n",
      "W0411 17:52:59.284150 140148543854400 deprecation.py:506] From /usr/local/anaconda/lib/python3.6/site-packages/tensorflow/python/ops/init_ops.py:1251: calling VarianceScaling.__init__ (from tensorflow.python.ops.init_ops) with dtype is deprecated and will be removed in a future version.\n",
      "Instructions for updating:\n",
      "Call initializer instance with the dtype argument instead of passing it to the constructor\n"
     ]
    }
   ],
   "source": [
    "with tf.name_scope(\"dnn\"):\n",
    "    hidden1 = tf.layers.dense(X, n_hidden1, name=\"hidden1\",\n",
    "                          activation=tf.nn.relu)\n",
    "    hidden2 = tf.layers.dense(hidden1, n_hidden2, name=\"hidden2\",\n",
    "                          activation=tf.nn.relu)\n",
    "    logits = tf.layers.dense(hidden2, n_outputs, name=\"outputs\")"
   ]
  },
  {
   "cell_type": "code",
   "execution_count": 6,
   "metadata": {},
   "outputs": [],
   "source": [
    "with tf.name_scope(\"loss\"):\n",
    "    xentropy = tf.nn.sparse_softmax_cross_entropy_with_logits(labels=y,logits=logits)\n",
    "    loss = tf.reduce_mean(xentropy, name=\"loss\")"
   ]
  },
  {
   "cell_type": "code",
   "execution_count": 7,
   "metadata": {},
   "outputs": [],
   "source": [
    "learning_rate = 0.01\n",
    "\n",
    "with tf.name_scope(\"train\"):\n",
    "    optimizer = tf.train.GradientDescentOptimizer(learning_rate)\n",
    "    training_op = optimizer.minimize(loss)"
   ]
  },
  {
   "cell_type": "code",
   "execution_count": 8,
   "metadata": {},
   "outputs": [],
   "source": [
    "with tf.name_scope(\"eval\"):\n",
    "    correct = tf.nn.in_top_k(logits, y, 1)\n",
    "    accuracy = tf.reduce_mean(tf.cast(correct, tf.float32))"
   ]
  },
  {
   "cell_type": "code",
   "execution_count": 9,
   "metadata": {},
   "outputs": [],
   "source": [
    "init = tf.global_variables_initializer()\n",
    "saver = tf.train.Saver()"
   ]
  },
  {
   "cell_type": "code",
   "execution_count": 10,
   "metadata": {},
   "outputs": [],
   "source": [
    "n_epochs = 69\n",
    "batch_size = 50"
   ]
  },
  {
   "cell_type": "code",
   "execution_count": 11,
   "metadata": {},
   "outputs": [
    {
     "name": "stdout",
     "output_type": "stream",
     "text": [
      "0 Train accuracy: 0.82 Val accuracy: 0.8234\n",
      "1 Train accuracy: 0.86 Val accuracy: 0.833\n",
      "2 Train accuracy: 0.82 Val accuracy: 0.8422\n",
      "3 Train accuracy: 0.94 Val accuracy: 0.8582\n",
      "4 Train accuracy: 0.84 Val accuracy: 0.8572\n",
      "5 Train accuracy: 0.86 Val accuracy: 0.8672\n",
      "6 Train accuracy: 0.94 Val accuracy: 0.8542\n",
      "7 Train accuracy: 0.86 Val accuracy: 0.8668\n",
      "8 Train accuracy: 0.9 Val accuracy: 0.8664\n",
      "9 Train accuracy: 0.92 Val accuracy: 0.868\n",
      "10 Train accuracy: 0.8 Val accuracy: 0.8732\n",
      "11 Train accuracy: 0.92 Val accuracy: 0.8774\n",
      "12 Train accuracy: 0.84 Val accuracy: 0.8772\n",
      "13 Train accuracy: 0.86 Val accuracy: 0.8644\n",
      "14 Train accuracy: 0.78 Val accuracy: 0.8808\n",
      "15 Train accuracy: 0.92 Val accuracy: 0.8786\n",
      "16 Train accuracy: 0.88 Val accuracy: 0.8798\n",
      "17 Train accuracy: 0.96 Val accuracy: 0.8808\n",
      "18 Train accuracy: 0.96 Val accuracy: 0.8826\n",
      "19 Train accuracy: 0.9 Val accuracy: 0.8822\n",
      "20 Train accuracy: 0.96 Val accuracy: 0.873\n",
      "21 Train accuracy: 0.96 Val accuracy: 0.875\n",
      "22 Train accuracy: 0.94 Val accuracy: 0.8846\n",
      "23 Train accuracy: 0.92 Val accuracy: 0.886\n",
      "24 Train accuracy: 0.82 Val accuracy: 0.882\n",
      "25 Train accuracy: 0.9 Val accuracy: 0.8876\n",
      "26 Train accuracy: 0.92 Val accuracy: 0.8894\n",
      "27 Train accuracy: 0.92 Val accuracy: 0.8804\n",
      "28 Train accuracy: 0.94 Val accuracy: 0.8866\n",
      "29 Train accuracy: 0.96 Val accuracy: 0.89\n",
      "30 Train accuracy: 0.92 Val accuracy: 0.8844\n",
      "31 Train accuracy: 0.92 Val accuracy: 0.8854\n",
      "32 Train accuracy: 0.92 Val accuracy: 0.889\n",
      "33 Train accuracy: 0.98 Val accuracy: 0.8946\n",
      "34 Train accuracy: 0.96 Val accuracy: 0.8878\n",
      "35 Train accuracy: 0.92 Val accuracy: 0.8914\n",
      "36 Train accuracy: 0.94 Val accuracy: 0.894\n",
      "37 Train accuracy: 0.98 Val accuracy: 0.891\n",
      "38 Train accuracy: 0.94 Val accuracy: 0.8874\n",
      "39 Train accuracy: 0.98 Val accuracy: 0.8902\n",
      "40 Train accuracy: 0.98 Val accuracy: 0.8936\n",
      "41 Train accuracy: 0.94 Val accuracy: 0.8898\n",
      "42 Train accuracy: 0.92 Val accuracy: 0.8894\n",
      "43 Train accuracy: 0.92 Val accuracy: 0.8912\n",
      "44 Train accuracy: 0.96 Val accuracy: 0.8892\n",
      "45 Train accuracy: 0.94 Val accuracy: 0.8958\n",
      "46 Train accuracy: 0.94 Val accuracy: 0.8926\n",
      "47 Train accuracy: 1.0 Val accuracy: 0.894\n",
      "48 Train accuracy: 0.96 Val accuracy: 0.892\n",
      "49 Train accuracy: 1.0 Val accuracy: 0.8944\n",
      "50 Train accuracy: 0.96 Val accuracy: 0.8912\n",
      "51 Train accuracy: 1.0 Val accuracy: 0.8946\n",
      "52 Train accuracy: 0.98 Val accuracy: 0.8952\n",
      "53 Train accuracy: 0.98 Val accuracy: 0.8958\n",
      "54 Train accuracy: 0.94 Val accuracy: 0.8874\n",
      "55 Train accuracy: 1.0 Val accuracy: 0.8934\n",
      "56 Train accuracy: 0.98 Val accuracy: 0.8896\n",
      "57 Train accuracy: 1.0 Val accuracy: 0.8932\n",
      "58 Train accuracy: 0.98 Val accuracy: 0.8952\n",
      "59 Train accuracy: 1.0 Val accuracy: 0.8944\n",
      "60 Train accuracy: 0.98 Val accuracy: 0.8964\n",
      "61 Train accuracy: 0.96 Val accuracy: 0.8922\n",
      "62 Train accuracy: 0.96 Val accuracy: 0.8888\n",
      "63 Train accuracy: 0.98 Val accuracy: 0.8928\n",
      "64 Train accuracy: 1.0 Val accuracy: 0.899\n",
      "65 Train accuracy: 0.92 Val accuracy: 0.895\n",
      "66 Train accuracy: 1.0 Val accuracy: 0.8996\n",
      "67 Train accuracy: 0.94 Val accuracy: 0.8938\n",
      "68 Train accuracy: 0.92 Val accuracy: 0.8986\n"
     ]
    }
   ],
   "source": [
    "with tf.Session() as sess:\n",
    "    init.run()\n",
    "    for epoch in range(n_epochs):\n",
    "        for iteration in range(mnist.train.num_examples // batch_size):\n",
    "            X_batch, y_batch = mnist.train.next_batch(batch_size)\n",
    "            sess.run(training_op, feed_dict={X: X_batch, y: y_batch})\n",
    "        acc_train = accuracy.eval(feed_dict={X: X_batch, y: y_batch})\n",
    "        acc_val = accuracy.eval(feed_dict={X: mnist.validation.images,\n",
    "                                            y: mnist.validation.labels})\n",
    "        print(epoch, \"Train accuracy:\", acc_train, \"Val accuracy:\", acc_val)\n",
    "\n",
    "    save_path = saver.save(sess, \"classify_clothes.ipynb\")"
   ]
  },
  {
   "cell_type": "code",
   "execution_count": null,
   "metadata": {},
   "outputs": [],
   "source": []
  }
 ],
 "metadata": {
  "kernelspec": {
   "display_name": "Python 3",
   "language": "python",
   "name": "python3"
  },
  "language_info": {
   "codemirror_mode": {
    "name": "ipython",
    "version": 3
   },
   "file_extension": ".py",
   "mimetype": "text/x-python",
   "name": "python",
   "nbconvert_exporter": "python",
   "pygments_lexer": "ipython3",
   "version": "3.6.8"
  },
  "toc": {
   "base_numbering": 1,
   "nav_menu": {},
   "number_sections": true,
   "sideBar": true,
   "skip_h1_title": false,
   "title_cell": "Table of Contents",
   "title_sidebar": "Contents",
   "toc_cell": false,
   "toc_position": {},
   "toc_section_display": true,
   "toc_window_display": false
  }
 },
 "nbformat": 4,
 "nbformat_minor": 2
}
